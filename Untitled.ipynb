{
 "cells": [
  {
   "cell_type": "code",
   "execution_count": 1,
   "id": "5290c961",
   "metadata": {},
   "outputs": [],
   "source": [
    "import pandas as pd\n",
    "import os\n",
    "import re"
   ]
  },
  {
   "cell_type": "code",
   "execution_count": 2,
   "id": "6c19e517",
   "metadata": {},
   "outputs": [],
   "source": [
    "df = pd.read_excel('.\\各产品线结算格式\\ATO/委托查询_20230614.xlsx')"
   ]
  },
  {
   "cell_type": "code",
   "execution_count": 3,
   "id": "543fc6b3",
   "metadata": {
    "scrolled": true
   },
   "outputs": [
    {
     "data": {
      "text/html": [
       "<div>\n",
       "<style scoped>\n",
       "    .dataframe tbody tr th:only-of-type {\n",
       "        vertical-align: middle;\n",
       "    }\n",
       "\n",
       "    .dataframe tbody tr th {\n",
       "        vertical-align: top;\n",
       "    }\n",
       "\n",
       "    .dataframe thead th {\n",
       "        text-align: right;\n",
       "    }\n",
       "</style>\n",
       "<table border=\"1\" class=\"dataframe\">\n",
       "  <thead>\n",
       "    <tr style=\"text-align: right;\">\n",
       "      <th></th>\n",
       "      <th>算法子单编号</th>\n",
       "    </tr>\n",
       "  </thead>\n",
       "  <tbody>\n",
       "    <tr>\n",
       "      <th>0</th>\n",
       "      <td>2350260602067742721</td>\n",
       "    </tr>\n",
       "    <tr>\n",
       "      <th>1</th>\n",
       "      <td>2350260602067742723</td>\n",
       "    </tr>\n",
       "    <tr>\n",
       "      <th>2</th>\n",
       "      <td>2350260602067742722</td>\n",
       "    </tr>\n",
       "    <tr>\n",
       "      <th>3</th>\n",
       "      <td>2350260602067742724</td>\n",
       "    </tr>\n",
       "    <tr>\n",
       "      <th>4</th>\n",
       "      <td>2350260670787219460</td>\n",
       "    </tr>\n",
       "    <tr>\n",
       "      <th>...</th>\n",
       "      <td>...</td>\n",
       "    </tr>\n",
       "    <tr>\n",
       "      <th>28814</th>\n",
       "      <td>3697709215689207808</td>\n",
       "    </tr>\n",
       "    <tr>\n",
       "      <th>28815</th>\n",
       "      <td>3697778003885420544</td>\n",
       "    </tr>\n",
       "    <tr>\n",
       "      <th>28816</th>\n",
       "      <td>3698121601269100544</td>\n",
       "    </tr>\n",
       "    <tr>\n",
       "      <th>28817</th>\n",
       "      <td>3698258971503095808</td>\n",
       "    </tr>\n",
       "    <tr>\n",
       "      <th>28818</th>\n",
       "      <td>3698396479176044544</td>\n",
       "    </tr>\n",
       "  </tbody>\n",
       "</table>\n",
       "<p>28819 rows × 1 columns</p>\n",
       "</div>"
      ],
      "text/plain": [
       "                    算法子单编号\n",
       "0      2350260602067742721\n",
       "1      2350260602067742723\n",
       "2      2350260602067742722\n",
       "3      2350260602067742724\n",
       "4      2350260670787219460\n",
       "...                    ...\n",
       "28814  3697709215689207808\n",
       "28815  3697778003885420544\n",
       "28816  3698121601269100544\n",
       "28817  3698258971503095808\n",
       "28818  3698396479176044544\n",
       "\n",
       "[28819 rows x 1 columns]"
      ]
     },
     "execution_count": 3,
     "metadata": {},
     "output_type": "execute_result"
    }
   ],
   "source": [
    "len(df.columns)  # 列数\n",
    "# 41\n",
    "clist = df['算法子单编号'].values\n",
    "cdata = pd.DataFrame({'算法子单编号': clist})\n",
    "cdata"
   ]
  },
  {
   "cell_type": "code",
   "execution_count": 7,
   "id": "f69ce9ec",
   "metadata": {},
   "outputs": [],
   "source": [
    "def cvt_col_from_to(df, origin_cname, new_cname, new_cdata_cvt_fun=None):\n",
    "    clist = df[origin_cname].values\n",
    "    if new_cdata_cvt_fun:\n",
    "        clist = [new_cdata_cvt_fun(c) for c in clist]\n",
    "    cdata = pd.DataFrame({new_cname: clist})\n",
    "    return cdata\n"
   ]
  },
  {
   "cell_type": "code",
   "execution_count": 8,
   "id": "a6fd2591",
   "metadata": {},
   "outputs": [
    {
     "data": {
      "text/html": [
       "<div>\n",
       "<style scoped>\n",
       "    .dataframe tbody tr th:only-of-type {\n",
       "        vertical-align: middle;\n",
       "    }\n",
       "\n",
       "    .dataframe tbody tr th {\n",
       "        vertical-align: top;\n",
       "    }\n",
       "\n",
       "    .dataframe thead th {\n",
       "        text-align: right;\n",
       "    }\n",
       "</style>\n",
       "<table border=\"1\" class=\"dataframe\">\n",
       "  <thead>\n",
       "    <tr style=\"text-align: right;\">\n",
       "      <th></th>\n",
       "      <th>交易日期</th>\n",
       "    </tr>\n",
       "  </thead>\n",
       "  <tbody>\n",
       "    <tr>\n",
       "      <th>0</th>\n",
       "      <td>20230614</td>\n",
       "    </tr>\n",
       "    <tr>\n",
       "      <th>1</th>\n",
       "      <td>20230614</td>\n",
       "    </tr>\n",
       "    <tr>\n",
       "      <th>2</th>\n",
       "      <td>20230614</td>\n",
       "    </tr>\n",
       "    <tr>\n",
       "      <th>3</th>\n",
       "      <td>20230614</td>\n",
       "    </tr>\n",
       "    <tr>\n",
       "      <th>4</th>\n",
       "      <td>20230614</td>\n",
       "    </tr>\n",
       "    <tr>\n",
       "      <th>...</th>\n",
       "      <td>...</td>\n",
       "    </tr>\n",
       "    <tr>\n",
       "      <th>28814</th>\n",
       "      <td>20230614</td>\n",
       "    </tr>\n",
       "    <tr>\n",
       "      <th>28815</th>\n",
       "      <td>20230614</td>\n",
       "    </tr>\n",
       "    <tr>\n",
       "      <th>28816</th>\n",
       "      <td>20230614</td>\n",
       "    </tr>\n",
       "    <tr>\n",
       "      <th>28817</th>\n",
       "      <td>20230614</td>\n",
       "    </tr>\n",
       "    <tr>\n",
       "      <th>28818</th>\n",
       "      <td>20230614</td>\n",
       "    </tr>\n",
       "  </tbody>\n",
       "</table>\n",
       "<p>28819 rows × 1 columns</p>\n",
       "</div>"
      ],
      "text/plain": [
       "           交易日期\n",
       "0      20230614\n",
       "1      20230614\n",
       "2      20230614\n",
       "3      20230614\n",
       "4      20230614\n",
       "...         ...\n",
       "28814  20230614\n",
       "28815  20230614\n",
       "28816  20230614\n",
       "28817  20230614\n",
       "28818  20230614\n",
       "\n",
       "[28819 rows x 1 columns]"
      ]
     },
     "execution_count": 8,
     "metadata": {},
     "output_type": "execute_result"
    }
   ],
   "source": [
    "a = cvt_col_from_to(df, '委托日期', '交易日期', lambda x: x.replace('/', ''))\n",
    "a"
   ]
  },
  {
   "cell_type": "code",
   "execution_count": 10,
   "id": "8ce593e3",
   "metadata": {},
   "outputs": [
    {
     "ename": "ValueError",
     "evalue": "5 is not in list",
     "output_type": "error",
     "traceback": [
      "\u001b[1;31m---------------------------------------------------------------------------\u001b[0m",
      "\u001b[1;31mValueError\u001b[0m                                Traceback (most recent call last)",
      "Cell \u001b[1;32mIn[10], line 2\u001b[0m\n\u001b[0;32m      1\u001b[0m a \u001b[38;5;241m=\u001b[39m [\u001b[38;5;241m1\u001b[39m, \u001b[38;5;241m2\u001b[39m, \u001b[38;5;241m3\u001b[39m]\n\u001b[1;32m----> 2\u001b[0m \u001b[43ma\u001b[49m\u001b[38;5;241;43m.\u001b[39;49m\u001b[43mindex\u001b[49m\u001b[43m(\u001b[49m\u001b[38;5;241;43m5\u001b[39;49m\u001b[43m)\u001b[49m\n",
      "\u001b[1;31mValueError\u001b[0m: 5 is not in list"
     ]
    }
   ],
   "source": [
    "a = [1, 2, 3]\n",
    "a.index(5)"
   ]
  },
  {
   "cell_type": "code",
   "execution_count": 4,
   "id": "1420884f",
   "metadata": {},
   "outputs": [
    {
     "name": "stdout",
     "output_type": "stream",
     "text": [
      "Hello, Alice!\n",
      "Hello, Bob!\n",
      "Hello, Charlie!\n",
      "ALICE\n",
      "BOB\n",
      "CHARLIE\n"
     ]
    }
   ],
   "source": [
    "def greet(name: str) -> None:\n",
    "    print(f\"Hello, {name}!\")\n",
    "\n",
    "def uppercase(text: str) -> None:\n",
    "    print(text.upper())\n",
    "\n",
    "def process_data(data: list, callback: callable) -> None:\n",
    "    for item in data:\n",
    "        callback(item)\n",
    "\n",
    "# 调用 process_data 函数，并传递 greet 和 uppercase 函数作为参数\n",
    "names = [\"Alice\", \"Bob\", \"Charlie\"]\n",
    "process_data(names, greet)\n",
    "process_data(names, uppercase)\n"
   ]
  },
  {
   "cell_type": "markdown",
   "id": "75360375",
   "metadata": {},
   "source": []
  },
  {
   "cell_type": "code",
   "execution_count": 5,
   "id": "7f76e44a",
   "metadata": {},
   "outputs": [],
   "source": [
    "import os\n",
    "import glob\n",
    "\n",
    "def get_excel_file_paths(directory):\n",
    "    # 获取指定路径下的所有Excel文件路径\n",
    "    excel_files = glob.glob(os.path.join(directory, \"*.xlsx\"))  # 获取所有后缀为xlsx的文件\n",
    "    excel_files.extend(glob.glob(os.path.join(directory, \"*.xls\")))  # 获取所有后缀为xls的文件\n",
    "    excel_files.extend(glob.glob(os.path.join(directory, \"*.csv\")))\n",
    "    return excel_files\n"
   ]
  },
  {
   "cell_type": "code",
   "execution_count": 6,
   "id": "2f0b3973",
   "metadata": {},
   "outputs": [
    {
     "data": {
      "text/plain": [
       "['.\\\\各产品线结算格式\\\\ATO\\\\~$委托查询_20230614.xlsx',\n",
       " '.\\\\各产品线结算格式\\\\ATO\\\\~$绩效查询_母单绩效_汇总_20230614.xlsx',\n",
       " '.\\\\各产品线结算格式\\\\ATO\\\\委托查询_20230614.xlsx',\n",
       " '.\\\\各产品线结算格式\\\\ATO\\\\绩效查询_母单绩效_汇总_20230614.xlsx']"
      ]
     },
     "execution_count": 6,
     "metadata": {},
     "output_type": "execute_result"
    }
   ],
   "source": [
    "get_excel_file_paths('.\\各产品线结算格式\\ATO')"
   ]
  },
  {
   "cell_type": "markdown",
   "id": "3aa909f9",
   "metadata": {},
   "source": [
    "### ATO\n",
    "通过`len(df.columns)`（列数）来区分对应的表 \n",
    "\n",
    "拆单（算法类型=0）\n",
    "- 41：子单\n",
    "- 28：母单 \n",
    "\n",
    "T0（算法类型=1）\n",
    "- 22：子单\n",
    "- 39：母单\n",
    "\n",
    "### ATX\n",
    "\n",
    "\n",
    "### ATGO"
   ]
  }
 ],
 "metadata": {
  "kernelspec": {
   "display_name": "Python 3 (ipykernel)",
   "language": "python",
   "name": "python3"
  },
  "language_info": {
   "codemirror_mode": {
    "name": "ipython",
    "version": 3
   },
   "file_extension": ".py",
   "mimetype": "text/x-python",
   "name": "python",
   "nbconvert_exporter": "python",
   "pygments_lexer": "ipython3",
   "version": "3.9.16"
  }
 },
 "nbformat": 4,
 "nbformat_minor": 5
}
