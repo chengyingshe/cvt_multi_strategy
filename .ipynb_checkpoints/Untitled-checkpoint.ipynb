{
 "cells": [
  {
   "cell_type": "code",
   "execution_count": 1,
   "id": "5290c961",
   "metadata": {},
   "outputs": [],
   "source": [
    "import pandas as pd\n",
    "import os\n",
    "import re"
   ]
  },
  {
   "cell_type": "code",
   "execution_count": 2,
   "id": "6c19e517",
   "metadata": {},
   "outputs": [],
   "source": [
    "df = pd.read_excel('.\\各产品线结算格式\\ATO/委托查询_20230614.xlsx')"
   ]
  },
  {
   "cell_type": "code",
   "execution_count": 3,
   "id": "543fc6b3",
   "metadata": {
    "scrolled": true
   },
   "outputs": [
    {
     "data": {
      "text/html": [
       "<div>\n",
       "<style scoped>\n",
       "    .dataframe tbody tr th:only-of-type {\n",
       "        vertical-align: middle;\n",
       "    }\n",
       "\n",
       "    .dataframe tbody tr th {\n",
       "        vertical-align: top;\n",
       "    }\n",
       "\n",
       "    .dataframe thead th {\n",
       "        text-align: right;\n",
       "    }\n",
       "</style>\n",
       "<table border=\"1\" class=\"dataframe\">\n",
       "  <thead>\n",
       "    <tr style=\"text-align: right;\">\n",
       "      <th></th>\n",
       "      <th>算法子单编号</th>\n",
       "    </tr>\n",
       "  </thead>\n",
       "  <tbody>\n",
       "    <tr>\n",
       "      <th>0</th>\n",
       "      <td>2350260602067742721</td>\n",
       "    </tr>\n",
       "    <tr>\n",
       "      <th>1</th>\n",
       "      <td>2350260602067742723</td>\n",
       "    </tr>\n",
       "    <tr>\n",
       "      <th>2</th>\n",
       "      <td>2350260602067742722</td>\n",
       "    </tr>\n",
       "    <tr>\n",
       "      <th>3</th>\n",
       "      <td>2350260602067742724</td>\n",
       "    </tr>\n",
       "    <tr>\n",
       "      <th>4</th>\n",
       "      <td>2350260670787219460</td>\n",
       "    </tr>\n",
       "    <tr>\n",
       "      <th>...</th>\n",
       "      <td>...</td>\n",
       "    </tr>\n",
       "    <tr>\n",
       "      <th>28814</th>\n",
       "      <td>3697709215689207808</td>\n",
       "    </tr>\n",
       "    <tr>\n",
       "      <th>28815</th>\n",
       "      <td>3697778003885420544</td>\n",
       "    </tr>\n",
       "    <tr>\n",
       "      <th>28816</th>\n",
       "      <td>3698121601269100544</td>\n",
       "    </tr>\n",
       "    <tr>\n",
       "      <th>28817</th>\n",
       "      <td>3698258971503095808</td>\n",
       "    </tr>\n",
       "    <tr>\n",
       "      <th>28818</th>\n",
       "      <td>3698396479176044544</td>\n",
       "    </tr>\n",
       "  </tbody>\n",
       "</table>\n",
       "<p>28819 rows × 1 columns</p>\n",
       "</div>"
      ],
      "text/plain": [
       "                    算法子单编号\n",
       "0      2350260602067742721\n",
       "1      2350260602067742723\n",
       "2      2350260602067742722\n",
       "3      2350260602067742724\n",
       "4      2350260670787219460\n",
       "...                    ...\n",
       "28814  3697709215689207808\n",
       "28815  3697778003885420544\n",
       "28816  3698121601269100544\n",
       "28817  3698258971503095808\n",
       "28818  3698396479176044544\n",
       "\n",
       "[28819 rows x 1 columns]"
      ]
     },
     "execution_count": 3,
     "metadata": {},
     "output_type": "execute_result"
    }
   ],
   "source": [
    "len(df.columns)  # 列数\n",
    "# 41\n",
    "clist = df['算法子单编号'].values\n",
    "cdata = pd.DataFrame({'算法子单编号': clist})\n",
    "cdata"
   ]
  },
  {
   "cell_type": "code",
   "execution_count": 7,
   "id": "47e612df",
   "metadata": {},
   "outputs": [],
   "source": [
    "def cvt_col_from_to(df, origin_cname, new_cname, new_cdata_cvt_fun=None):\n",
    "    clist = df[origin_cname].values\n",
    "    if new_cdata_cvt_fun:\n",
    "        clist = [new_cdata_cvt_fun(c) for c in clist]\n",
    "    cdata = pd.DataFrame({new_cname: clist})\n",
    "    return cdata\n"
   ]
  },
  {
   "cell_type": "code",
   "execution_count": 8,
   "id": "f331fc06",
   "metadata": {},
   "outputs": [
    {
     "data": {
      "text/html": [
       "<div>\n",
       "<style scoped>\n",
       "    .dataframe tbody tr th:only-of-type {\n",
       "        vertical-align: middle;\n",
       "    }\n",
       "\n",
       "    .dataframe tbody tr th {\n",
       "        vertical-align: top;\n",
       "    }\n",
       "\n",
       "    .dataframe thead th {\n",
       "        text-align: right;\n",
       "    }\n",
       "</style>\n",
       "<table border=\"1\" class=\"dataframe\">\n",
       "  <thead>\n",
       "    <tr style=\"text-align: right;\">\n",
       "      <th></th>\n",
       "      <th>交易日期</th>\n",
       "    </tr>\n",
       "  </thead>\n",
       "  <tbody>\n",
       "    <tr>\n",
       "      <th>0</th>\n",
       "      <td>20230614</td>\n",
       "    </tr>\n",
       "    <tr>\n",
       "      <th>1</th>\n",
       "      <td>20230614</td>\n",
       "    </tr>\n",
       "    <tr>\n",
       "      <th>2</th>\n",
       "      <td>20230614</td>\n",
       "    </tr>\n",
       "    <tr>\n",
       "      <th>3</th>\n",
       "      <td>20230614</td>\n",
       "    </tr>\n",
       "    <tr>\n",
       "      <th>4</th>\n",
       "      <td>20230614</td>\n",
       "    </tr>\n",
       "    <tr>\n",
       "      <th>...</th>\n",
       "      <td>...</td>\n",
       "    </tr>\n",
       "    <tr>\n",
       "      <th>28814</th>\n",
       "      <td>20230614</td>\n",
       "    </tr>\n",
       "    <tr>\n",
       "      <th>28815</th>\n",
       "      <td>20230614</td>\n",
       "    </tr>\n",
       "    <tr>\n",
       "      <th>28816</th>\n",
       "      <td>20230614</td>\n",
       "    </tr>\n",
       "    <tr>\n",
       "      <th>28817</th>\n",
       "      <td>20230614</td>\n",
       "    </tr>\n",
       "    <tr>\n",
       "      <th>28818</th>\n",
       "      <td>20230614</td>\n",
       "    </tr>\n",
       "  </tbody>\n",
       "</table>\n",
       "<p>28819 rows × 1 columns</p>\n",
       "</div>"
      ],
      "text/plain": [
       "           交易日期\n",
       "0      20230614\n",
       "1      20230614\n",
       "2      20230614\n",
       "3      20230614\n",
       "4      20230614\n",
       "...         ...\n",
       "28814  20230614\n",
       "28815  20230614\n",
       "28816  20230614\n",
       "28817  20230614\n",
       "28818  20230614\n",
       "\n",
       "[28819 rows x 1 columns]"
      ]
     },
     "execution_count": 8,
     "metadata": {},
     "output_type": "execute_result"
    }
   ],
   "source": [
    "a = cvt_col_from_to(df, '委托日期', '交易日期', lambda x: x.replace('/', ''))\n",
    "a"
   ]
  },
  {
   "cell_type": "code",
   "execution_count": 10,
   "id": "f32d642c",
   "metadata": {},
   "outputs": [
    {
     "ename": "ValueError",
     "evalue": "5 is not in list",
     "output_type": "error",
     "traceback": [
      "\u001b[1;31m---------------------------------------------------------------------------\u001b[0m",
      "\u001b[1;31mValueError\u001b[0m                                Traceback (most recent call last)",
      "Cell \u001b[1;32mIn[10], line 2\u001b[0m\n\u001b[0;32m      1\u001b[0m a \u001b[38;5;241m=\u001b[39m [\u001b[38;5;241m1\u001b[39m, \u001b[38;5;241m2\u001b[39m, \u001b[38;5;241m3\u001b[39m]\n\u001b[1;32m----> 2\u001b[0m \u001b[43ma\u001b[49m\u001b[38;5;241;43m.\u001b[39;49m\u001b[43mindex\u001b[49m\u001b[43m(\u001b[49m\u001b[38;5;241;43m5\u001b[39;49m\u001b[43m)\u001b[49m\n",
      "\u001b[1;31mValueError\u001b[0m: 5 is not in list"
     ]
    }
   ],
   "source": [
    "a = [1, 2, 3]\n",
    "a.index(5)"
   ]
  },
  {
   "cell_type": "code",
   "execution_count": 4,
   "id": "1420884f",
   "metadata": {},
   "outputs": [
    {
     "name": "stdout",
     "output_type": "stream",
     "text": [
      "Hello, Alice!\n",
      "Hello, Bob!\n",
      "Hello, Charlie!\n",
      "ALICE\n",
      "BOB\n",
      "CHARLIE\n"
     ]
    }
   ],
   "source": [
    "def greet(name: str) -> None:\n",
    "    print(f\"Hello, {name}!\")\n",
    "\n",
    "def uppercase(text: str) -> None:\n",
    "    print(text.upper())\n",
    "\n",
    "def process_data(data: list, callback: callable) -> None:\n",
    "    for item in data:\n",
    "        callback(item)\n",
    "\n",
    "# 调用 process_data 函数，并传递 greet 和 uppercase 函数作为参数\n",
    "names = [\"Alice\", \"Bob\", \"Charlie\"]\n",
    "process_data(names, greet)\n",
    "process_data(names, uppercase)\n"
   ]
  },
  {
   "cell_type": "markdown",
   "id": "75360375",
   "metadata": {},
   "source": []
  },
  {
   "cell_type": "code",
   "execution_count": 5,
   "id": "7f76e44a",
   "metadata": {},
   "outputs": [],
   "source": [
    "import os\n",
    "import glob\n",
    "\n",
    "def get_excel_file_paths(directory):\n",
    "    # 获取指定路径下的所有Excel文件路径\n",
    "    excel_files = glob.glob(os.path.join(directory, \"*.xlsx\"))  # 获取所有后缀为xlsx的文件\n",
    "    excel_files.extend(glob.glob(os.path.join(directory, \"*.xls\")))  # 获取所有后缀为xls的文件\n",
    "    excel_files.extend(glob.glob(os.path.join(directory, \"*.csv\")))\n",
    "    return excel_files\n"
   ]
  },
  {
   "cell_type": "code",
   "execution_count": 6,
   "id": "2f0b3973",
   "metadata": {},
   "outputs": [
    {
     "data": {
      "text/plain": [
       "['.\\\\各产品线结算格式\\\\ATO\\\\~$委托查询_20230614.xlsx',\n",
       " '.\\\\各产品线结算格式\\\\ATO\\\\~$绩效查询_母单绩效_汇总_20230614.xlsx',\n",
       " '.\\\\各产品线结算格式\\\\ATO\\\\委托查询_20230614.xlsx',\n",
       " '.\\\\各产品线结算格式\\\\ATO\\\\绩效查询_母单绩效_汇总_20230614.xlsx']"
      ]
     },
     "execution_count": 6,
     "metadata": {},
     "output_type": "execute_result"
    }
   ],
   "source": [
    "get_excel_file_paths('.\\各产品线结算格式\\ATO')"
   ]
  },
  {
   "cell_type": "code",
   "execution_count": 12,
   "id": "f8a8d7fe",
   "metadata": {},
   "outputs": [],
   "source": [
    "os.listdir?"
   ]
  },
  {
   "cell_type": "code",
   "execution_count": 11,
   "id": "418d2a21",
   "metadata": {},
   "outputs": [
    {
     "data": {
      "text/plain": [
       "['~$委托查询_20230614.xlsx',\n",
       " '~$绩效查询_母单绩效_汇总_20230614.xlsx',\n",
       " '委托查询_20230614.xlsx',\n",
       " '绩效查询_母单绩效_汇总_20230614.xlsx']"
      ]
     },
     "execution_count": 11,
     "metadata": {},
     "output_type": "execute_result"
    }
   ],
   "source": [
    "import os\n",
    "\n",
    "os.listdir('.\\各产品线结算格式\\ATO')"
   ]
  },
  {
   "cell_type": "code",
   "execution_count": 31,
   "id": "7b6229d6",
   "metadata": {},
   "outputs": [
    {
     "data": {
      "text/plain": [
       "array(['/home/atgouser/ATGO/merge_broker_stg_route/data/a_stg_route/stg_route_20230626.csv'],\n",
       "      dtype=object)"
      ]
     },
     "execution_count": 31,
     "metadata": {},
     "output_type": "execute_result"
    }
   ],
   "source": [
    "broker_mapping_file_path = 'E:\\Kafang\\cvt_multi_strategy\\上传订单转换工具所需文件\\模拟路径：券商-策略路由关联关系\\Mapping_A_B_Broker/'\\\n",
    "'broker_mapping_20230626.csv'\n",
    "account_user = 1000212\n",
    "broker_mapping_df = pd.read_csv(broker_mapping_file_path, encoding='gbk')\n",
    "broker_mapping_df[broker_mapping_df['BrokerNo'] == account_user]['StgRoute'].values"
   ]
  },
  {
   "cell_type": "code",
   "execution_count": 34,
   "id": "3a24e6a7",
   "metadata": {},
   "outputs": [
    {
     "data": {
      "text/html": [
       "<div>\n",
       "<style scoped>\n",
       "    .dataframe tbody tr th:only-of-type {\n",
       "        vertical-align: middle;\n",
       "    }\n",
       "\n",
       "    .dataframe tbody tr th {\n",
       "        vertical-align: top;\n",
       "    }\n",
       "\n",
       "    .dataframe thead th {\n",
       "        text-align: right;\n",
       "    }\n",
       "</style>\n",
       "<table border=\"1\" class=\"dataframe\">\n",
       "  <thead>\n",
       "    <tr style=\"text-align: right;\">\n",
       "      <th></th>\n",
       "      <th>accountS</th>\n",
       "      <th>symbol</th>\n",
       "      <th>security_type</th>\n",
       "      <th>order_type</th>\n",
       "      <th>strategy_alias</th>\n",
       "      <th>note</th>\n",
       "    </tr>\n",
       "  </thead>\n",
       "  <tbody>\n",
       "    <tr>\n",
       "      <th>0</th>\n",
       "      <td>-1</td>\n",
       "      <td>-1</td>\n",
       "      <td>-1</td>\n",
       "      <td>-1</td>\n",
       "      <td>103</td>\n",
       "      <td>Defult</td>\n",
       "    </tr>\n",
       "    <tr>\n",
       "      <th>1</th>\n",
       "      <td>-1</td>\n",
       "      <td>002267.SZ</td>\n",
       "      <td>-1</td>\n",
       "      <td>101|102</td>\n",
       "      <td>104</td>\n",
       "      <td>NaN</td>\n",
       "    </tr>\n",
       "    <tr>\n",
       "      <th>2</th>\n",
       "      <td>-1</td>\n",
       "      <td>300103.SZ</td>\n",
       "      <td>-1</td>\n",
       "      <td>101|102</td>\n",
       "      <td>104</td>\n",
       "      <td>NaN</td>\n",
       "    </tr>\n",
       "    <tr>\n",
       "      <th>3</th>\n",
       "      <td>-1</td>\n",
       "      <td>300573.SZ</td>\n",
       "      <td>-1</td>\n",
       "      <td>101|102</td>\n",
       "      <td>104</td>\n",
       "      <td>NaN</td>\n",
       "    </tr>\n",
       "    <tr>\n",
       "      <th>4</th>\n",
       "      <td>-1</td>\n",
       "      <td>000930.SZ</td>\n",
       "      <td>-1</td>\n",
       "      <td>101|102</td>\n",
       "      <td>104</td>\n",
       "      <td>NaN</td>\n",
       "    </tr>\n",
       "    <tr>\n",
       "      <th>...</th>\n",
       "      <td>...</td>\n",
       "      <td>...</td>\n",
       "      <td>...</td>\n",
       "      <td>...</td>\n",
       "      <td>...</td>\n",
       "      <td>...</td>\n",
       "    </tr>\n",
       "    <tr>\n",
       "      <th>2646</th>\n",
       "      <td>-1</td>\n",
       "      <td>600346.SH</td>\n",
       "      <td>-1</td>\n",
       "      <td>101|102</td>\n",
       "      <td>105</td>\n",
       "      <td>NaN</td>\n",
       "    </tr>\n",
       "    <tr>\n",
       "      <th>2647</th>\n",
       "      <td>-1</td>\n",
       "      <td>603982.SH</td>\n",
       "      <td>-1</td>\n",
       "      <td>101|102</td>\n",
       "      <td>105</td>\n",
       "      <td>NaN</td>\n",
       "    </tr>\n",
       "    <tr>\n",
       "      <th>2648</th>\n",
       "      <td>-1</td>\n",
       "      <td>603313.SH</td>\n",
       "      <td>-1</td>\n",
       "      <td>101|102</td>\n",
       "      <td>105</td>\n",
       "      <td>NaN</td>\n",
       "    </tr>\n",
       "    <tr>\n",
       "      <th>2649</th>\n",
       "      <td>-1</td>\n",
       "      <td>603607.SH</td>\n",
       "      <td>-1</td>\n",
       "      <td>101|102</td>\n",
       "      <td>105</td>\n",
       "      <td>NaN</td>\n",
       "    </tr>\n",
       "    <tr>\n",
       "      <th>2650</th>\n",
       "      <td>-1</td>\n",
       "      <td>605588.SH</td>\n",
       "      <td>-1</td>\n",
       "      <td>101|102</td>\n",
       "      <td>105</td>\n",
       "      <td>NaN</td>\n",
       "    </tr>\n",
       "  </tbody>\n",
       "</table>\n",
       "<p>2651 rows × 6 columns</p>\n",
       "</div>"
      ],
      "text/plain": [
       "      accountS     symbol  security_type order_type  strategy_alias    note\n",
       "0           -1         -1             -1         -1             103  Defult\n",
       "1           -1  002267.SZ             -1    101|102             104     NaN\n",
       "2           -1  300103.SZ             -1    101|102             104     NaN\n",
       "3           -1  300573.SZ             -1    101|102             104     NaN\n",
       "4           -1  000930.SZ             -1    101|102             104     NaN\n",
       "...        ...        ...            ...        ...             ...     ...\n",
       "2646        -1  600346.SH             -1    101|102             105     NaN\n",
       "2647        -1  603982.SH             -1    101|102             105     NaN\n",
       "2648        -1  603313.SH             -1    101|102             105     NaN\n",
       "2649        -1  603607.SH             -1    101|102             105     NaN\n",
       "2650        -1  605588.SH             -1    101|102             105     NaN\n",
       "\n",
       "[2651 rows x 6 columns]"
      ]
     },
     "execution_count": 34,
     "metadata": {},
     "output_type": "execute_result"
    }
   ],
   "source": [
    "stg_df = pd.read_csv(r'E:\\Kafang\\cvt_multi_strategy\\上传订单转换工具所需文件\\模拟路径：券商-策略路由关联关系\\a_stg_route/stg_route_20230626.csv')\n",
    "stg_df"
   ]
  },
  {
   "cell_type": "code",
   "execution_count": 42,
   "id": "3cdb5926",
   "metadata": {},
   "outputs": [],
   "source": [
    "def cvt_ato_actualorder_0(df):\n",
    "    global glob_date\n",
    "    suanfazidanbianhao = cvt_col_from_to(df, '算法子单编号', '算法子单编号')\n",
    "    suanfamudanbianhao = cvt_col_from_to(df, '母单序号', '算法母单编号')\n",
    "    jiaoyiriqi = cvt_col_from_to(df, '委托日期', '交易日期', lambda x: x.replace('/', ''))\n",
    "    shichangleibie = cvt_col_from_to(df, '交易市场', '市场类别', lambda x: get_index_from_list(market_type, x))\n",
    "    zijinzhanghumingcheng = cvt_col_from_to(df, '资产账户名称', '资金账户名称')\n",
    "    # 算法类型\n",
    "    suanfaleixing = cvt_col_from_to(df, '资产账户名称', '算法类型', lambda x: 0)  # 固定拆单0\n",
    "    # 算法供应商\n",
    "    suanfagongyingshang = cvt_col_from_to(df, '资产账户名称', '算法供应商', lambda x: '多策略')  # 固定多策略\n",
    "    zhengquandaima = cvt_col_from_to(df, '证券代码', '证券代码')\n",
    "    weituoleixing = cvt_col_from_to(df, '价格类型', '委托类型', lambda x: get_index_from_list(order_type, x))\n",
    "    maimaifangxiang = cvt_col_from_to(df, '买卖方向', '买卖方向', lambda x: get_index_from_list(side, x))\n",
    "    weituojiage = cvt_col_from_to(df, '委托价格(港股通单位为港币)', '委托价格')\n",
    "    weituoshuliang = cvt_col_from_to(df, '委托数量', '委托数量')\n",
    "    # 委托时间\n",
    "    date = df['委托日期'].values\n",
    "    time = df['委托时间'].values\n",
    "    glob_date = date[0].replace('/', '')\n",
    "    dt = []\n",
    "    for i in range(len(date)):\n",
    "        dt.append(date[i].replace('/', '') + time[i].replace(':', ''))\n",
    "    weituoshijian = pd.DataFrame({'委托时间': dt})\n",
    "    chengjiaojiage = cvt_col_from_to(df, '成交均价(港股通单位为港币)', '成交价格')\n",
    "    # 成交时间（使用委托时间）\n",
    "    chengjiaoshijian = pd.DataFrame({'成交时间': dt})\n",
    "    weituozhuangtai = cvt_col_from_to(df, '委托状态', '委托状态', lambda x: get_index_from_list(order_status, x))\n",
    "    shouxufei = cvt_col_from_to(df, '总费用', '手续费')\n",
    "    # 算法实例\n",
    "    '''\n",
    "    m = get_client_broker_map(atable)\n",
    "    account_user_list = df['资产账户名称'].values\n",
    "    symbol_list = df['证券代码'].values\n",
    "    algo_list = []\n",
    "    for i in range(len(account_user_list)):\n",
    "        algo_list.append(get_algo_type(account_user_list[i], symbol_list[i], m, mapping_broker_dir, glob_date))\n",
    "    suanfashili = pd.DataFrame({'算法实例': algo_list})\n",
    "    '''\n",
    "    suanfashili = pd.DataFrame({'算法实例': [''] * len(weituoshijian)})\n",
    "    return pd.concat(\n",
    "        [suanfazidanbianhao, suanfamudanbianhao, jiaoyiriqi, shichangleibie, zijinzhanghumingcheng, suanfaleixing,\n",
    "         suanfashili, suanfagongyingshang, zhengquandaima, weituoleixing, maimaifangxiang, weituojiage,\n",
    "         weituoshuliang, weituoshijian, chengjiaojiage], axis=1)"
   ]
  },
  {
   "cell_type": "code",
   "execution_count": null,
   "id": "d2806ddc",
   "metadata": {},
   "outputs": [],
   "source": [
    "ato_path = r'E:\\Kafang\\cvt_multi_strategy\\上传订单转换工具所需文件\\各产品线结算格式\\ATO\\0/委托查询_20230614.xlsx'\n",
    "\n",
    "glob_date = '20230614'\n",
    "df = pd.read_excel(ato_path)\n",
    "cvt_ato_actualorder_0(df)"
   ]
  },
  {
   "cell_type": "markdown",
   "id": "3aa909f9",
   "metadata": {},
   "source": [
    "### ATO\n",
    "通过`len(df.columns)`（列数）来区分对应的表 \n",
    "\n",
    "拆单（算法类型=0）\n",
    "- 41：子单\n",
    "- 28：母单 \n",
    "\n",
    "T0（算法类型=1）\n",
    "- 22：子单\n",
    "- 39：母单\n",
    "\n",
    "### ATX\n",
    "\n",
    "\n",
    "### ATGO"
   ]
  }
 ],
 "metadata": {
  "kernelspec": {
   "display_name": "Python 3 (ipykernel)",
   "language": "python",
   "name": "python3"
  },
  "language_info": {
   "codemirror_mode": {
    "name": "ipython",
    "version": 3
   },
   "file_extension": ".py",
   "mimetype": "text/x-python",
   "name": "python",
   "nbconvert_exporter": "python",
   "pygments_lexer": "ipython3",
   "version": "3.9.16"
  }
 },
 "nbformat": 4,
 "nbformat_minor": 5
}
